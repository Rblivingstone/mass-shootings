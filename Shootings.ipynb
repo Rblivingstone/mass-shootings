{
 "cells": [
  {
   "cell_type": "markdown",
   "metadata": {},
   "source": [
    "#Do Campaign Contributions Lead to Gun Violence?\n",
    "I'm going to be critiquing an article posted by Jonathan Morgan http://goodattheinternet.com/2016/06/12/campaign-contributions-to-gun-violence/. He claims that campaign contributions are a leading indicator of gun violence in when you use the campaign cycle. So I decided to check that since his article was devoid of actual statistics. It did have some nice graphs though. I ran some statistics, looked at t-scores, all in the name of seeing whether his story checks out. When I have some time, I'd like to improve upon this basic model. \n",
    "\n",
    "Cliff notes version: I find no evidence that campaign contributions by the gun industry lead mass shooting deaths. In fact, I find the exact opposite: The number of victims leads gun industry donations. This suggests that the gun industry is simply playing defense."
   ]
  },
  {
   "cell_type": "code",
   "execution_count": 1,
   "metadata": {
    "collapsed": true
   },
   "outputs": [],
   "source": [
    "import pandas\n",
    "import statsmodels.api as sm\n",
    "import numpy as np\n",
    "import matplotlib.pyplot as plt"
   ]
  },
  {
   "cell_type": "markdown",
   "metadata": {},
   "source": [
    "First of all let's load and clean the data. I'm using the same data sources as Mr. Morgan. Where we are going with this is a granger causality study. Later on, I'd like to test for cointegration of the variables and if it exists, we can build an error correction model to understand the long-run and short-run dynamics between these two variables. But for now because I'm doing this on a Monday night after my kid went to sleep, I'm limiting this to a very simplistic granger causality study. "
   ]
  },
  {
   "cell_type": "code",
   "execution_count": 3,
   "metadata": {
    "collapsed": false
   },
   "outputs": [
    {
     "data": {
      "text/html": [
       "<div>\n",
       "<table border=\"1\" class=\"dataframe\">\n",
       "  <thead>\n",
       "    <tr style=\"text-align: right;\">\n",
       "      <th></th>\n",
       "      <th>in</th>\n",
       "      <th>Location</th>\n",
       "      <th>Date</th>\n",
       "      <th>Year</th>\n",
       "      <th>Summary</th>\n",
       "      <th>Fatalities</th>\n",
       "      <th>Wounded</th>\n",
       "      <th>Total victims</th>\n",
       "      <th>Venue</th>\n",
       "      <th>Prior signs of possible mental illness</th>\n",
       "      <th>...</th>\n",
       "      <th>Where obtained</th>\n",
       "      <th>Type of weapons</th>\n",
       "      <th>Weapon details</th>\n",
       "      <th>Race</th>\n",
       "      <th>Gender</th>\n",
       "      <th>Sources</th>\n",
       "      <th>Mental Health Sources</th>\n",
       "      <th>latitude</th>\n",
       "      <th>longitude</th>\n",
       "      <th>Type</th>\n",
       "    </tr>\n",
       "  </thead>\n",
       "  <tbody>\n",
       "    <tr>\n",
       "      <th>0</th>\n",
       "      <td>Orlando nightclub massacre</td>\n",
       "      <td>Orlando, Florida</td>\n",
       "      <td>6/12/2016</td>\n",
       "      <td>2016</td>\n",
       "      <td>Omar Mateen, 29, attacked the Pulse nighclub i...</td>\n",
       "      <td>(pending)</td>\n",
       "      <td>(pending)</td>\n",
       "      <td>(pending)</td>\n",
       "      <td>Other</td>\n",
       "      <td>NaN</td>\n",
       "      <td>...</td>\n",
       "      <td>Shooting center in Port St. Lucie, Florida</td>\n",
       "      <td>Semiautomatic rifle, semiautomatic handgun</td>\n",
       "      <td>Sig Sauer MCX rifle; Glock 17 9mm</td>\n",
       "      <td>NaN</td>\n",
       "      <td>NaN</td>\n",
       "      <td>http://www.motherjones.com/politics/2016/06/as...</td>\n",
       "      <td>NaN</td>\n",
       "      <td>NaN</td>\n",
       "      <td>NaN</td>\n",
       "      <td>NaN</td>\n",
       "    </tr>\n",
       "    <tr>\n",
       "      <th>1</th>\n",
       "      <td>Excel Industries mass shooting</td>\n",
       "      <td>Hesston, Kansas</td>\n",
       "      <td>2/25/2016</td>\n",
       "      <td>2016</td>\n",
       "      <td>Cedric L. Ford, who worked as a painter at a m...</td>\n",
       "      <td>3</td>\n",
       "      <td>14</td>\n",
       "      <td>17</td>\n",
       "      <td>Workplace</td>\n",
       "      <td>Unclear</td>\n",
       "      <td>...</td>\n",
       "      <td>NaN</td>\n",
       "      <td>Semiautomatic rifle, semiautomatic handgun</td>\n",
       "      <td>AK-47</td>\n",
       "      <td>Black</td>\n",
       "      <td>M</td>\n",
       "      <td>http://www.nytimes.com/2016/02/26/us/shooting-...</td>\n",
       "      <td>NaN</td>\n",
       "      <td>NaN</td>\n",
       "      <td>NaN</td>\n",
       "      <td>Spree</td>\n",
       "    </tr>\n",
       "    <tr>\n",
       "      <th>2</th>\n",
       "      <td>Kalamazoo shooting spree</td>\n",
       "      <td>Kalamazoo County, Michigan</td>\n",
       "      <td>2/20/2016</td>\n",
       "      <td>2016</td>\n",
       "      <td>Jason B. Dalton, a driver for Uber, apparently...</td>\n",
       "      <td>6</td>\n",
       "      <td>2</td>\n",
       "      <td>8</td>\n",
       "      <td>Other</td>\n",
       "      <td>Unclear</td>\n",
       "      <td>...</td>\n",
       "      <td>NaN</td>\n",
       "      <td>Semiautomatic handgun</td>\n",
       "      <td>9 mm handgun</td>\n",
       "      <td>White</td>\n",
       "      <td>M</td>\n",
       "      <td>http://www.nytimes.com/2016/02/22/us/kalamazoo...</td>\n",
       "      <td>NaN</td>\n",
       "      <td>NaN</td>\n",
       "      <td>NaN</td>\n",
       "      <td>Spree</td>\n",
       "    </tr>\n",
       "    <tr>\n",
       "      <th>3</th>\n",
       "      <td>San Bernardino mass shooting</td>\n",
       "      <td>San Bernardino, California</td>\n",
       "      <td>12/2/2015</td>\n",
       "      <td>2015</td>\n",
       "      <td>Syed Rizwan Farook left a Christmas party held...</td>\n",
       "      <td>14</td>\n",
       "      <td>21</td>\n",
       "      <td>35</td>\n",
       "      <td>\\nWorkplace</td>\n",
       "      <td>Unclear</td>\n",
       "      <td>...</td>\n",
       "      <td>The suspects purchased their handguns in the U...</td>\n",
       "      <td>Two assault rifles and two semi-automatic pist...</td>\n",
       "      <td>Two semiautomatic AR-15-style rifles—one a DPM...</td>\n",
       "      <td>Other</td>\n",
       "      <td>Male &amp; Female</td>\n",
       "      <td>http://www.motherjones.com/mojo/2015/12/san-be...</td>\n",
       "      <td>NaN</td>\n",
       "      <td>NaN</td>\n",
       "      <td>NaN</td>\n",
       "      <td>Mass</td>\n",
       "    </tr>\n",
       "    <tr>\n",
       "      <th>4</th>\n",
       "      <td>Planned Parenthood clinic</td>\n",
       "      <td>Colorado Springs, Colorado</td>\n",
       "      <td>11/27/2015</td>\n",
       "      <td>2015</td>\n",
       "      <td>Robert Lewis Dear, 57, shot and killed a polic...</td>\n",
       "      <td>3</td>\n",
       "      <td>9</td>\n",
       "      <td>12</td>\n",
       "      <td>Workplace</td>\n",
       "      <td>Unclear</td>\n",
       "      <td>...</td>\n",
       "      <td>Unclear</td>\n",
       "      <td>Long gun</td>\n",
       "      <td>Reportedly an AK-47 style semiautomatic rifle ...</td>\n",
       "      <td>White</td>\n",
       "      <td>M</td>\n",
       "      <td>http://www.nytimes.com/2015/11/28/us/colorado-...</td>\n",
       "      <td>NaN</td>\n",
       "      <td>NaN</td>\n",
       "      <td>NaN</td>\n",
       "      <td>Mass</td>\n",
       "    </tr>\n",
       "  </tbody>\n",
       "</table>\n",
       "<p>5 rows × 22 columns</p>\n",
       "</div>"
      ],
      "text/plain": [
       "                               in                    Location        Date  \\\n",
       "0      Orlando nightclub massacre            Orlando, Florida   6/12/2016   \n",
       "1  Excel Industries mass shooting             Hesston, Kansas   2/25/2016   \n",
       "2        Kalamazoo shooting spree  Kalamazoo County, Michigan   2/20/2016   \n",
       "3    San Bernardino mass shooting  San Bernardino, California   12/2/2015   \n",
       "4       Planned Parenthood clinic  Colorado Springs, Colorado  11/27/2015   \n",
       "\n",
       "   Year                                            Summary Fatalities  \\\n",
       "0  2016  Omar Mateen, 29, attacked the Pulse nighclub i...  (pending)   \n",
       "1  2016  Cedric L. Ford, who worked as a painter at a m...          3   \n",
       "2  2016  Jason B. Dalton, a driver for Uber, apparently...          6   \n",
       "3  2015  Syed Rizwan Farook left a Christmas party held...         14   \n",
       "4  2015  Robert Lewis Dear, 57, shot and killed a polic...          3   \n",
       "\n",
       "     Wounded Total victims        Venue  \\\n",
       "0  (pending)     (pending)        Other   \n",
       "1         14            17    Workplace   \n",
       "2          2             8        Other   \n",
       "3         21            35  \\nWorkplace   \n",
       "4          9            12    Workplace   \n",
       "\n",
       "  Prior signs of possible mental illness  ...    \\\n",
       "0                                    NaN  ...     \n",
       "1                                Unclear  ...     \n",
       "2                                Unclear  ...     \n",
       "3                                Unclear  ...     \n",
       "4                                Unclear  ...     \n",
       "\n",
       "                                      Where obtained  \\\n",
       "0         Shooting center in Port St. Lucie, Florida   \n",
       "1                                                NaN   \n",
       "2                                                NaN   \n",
       "3  The suspects purchased their handguns in the U...   \n",
       "4                                            Unclear   \n",
       "\n",
       "                                     Type of weapons  \\\n",
       "0         Semiautomatic rifle, semiautomatic handgun   \n",
       "1         Semiautomatic rifle, semiautomatic handgun   \n",
       "2                              Semiautomatic handgun   \n",
       "3  Two assault rifles and two semi-automatic pist...   \n",
       "4                                           Long gun   \n",
       "\n",
       "                                      Weapon details   Race         Gender  \\\n",
       "0                  Sig Sauer MCX rifle; Glock 17 9mm    NaN            NaN   \n",
       "1                                              AK-47  Black              M   \n",
       "2                                       9 mm handgun  White              M   \n",
       "3  Two semiautomatic AR-15-style rifles—one a DPM...  Other  Male & Female   \n",
       "4  Reportedly an AK-47 style semiautomatic rifle ...  White              M   \n",
       "\n",
       "                                             Sources Mental Health Sources  \\\n",
       "0  http://www.motherjones.com/politics/2016/06/as...                   NaN   \n",
       "1  http://www.nytimes.com/2016/02/26/us/shooting-...                   NaN   \n",
       "2  http://www.nytimes.com/2016/02/22/us/kalamazoo...                   NaN   \n",
       "3  http://www.motherjones.com/mojo/2015/12/san-be...                   NaN   \n",
       "4  http://www.nytimes.com/2015/11/28/us/colorado-...                   NaN   \n",
       "\n",
       "  latitude longitude   Type  \n",
       "0      NaN       NaN    NaN  \n",
       "1      NaN       NaN  Spree  \n",
       "2      NaN       NaN  Spree  \n",
       "3      NaN       NaN   Mass  \n",
       "4      NaN       NaN   Mass  \n",
       "\n",
       "[5 rows x 22 columns]"
      ]
     },
     "execution_count": 3,
     "metadata": {},
     "output_type": "execute_result"
    }
   ],
   "source": [
    "df=pandas.read_csv('c:\\\\users\\\\ryan\\\\desktop\\\\shootings.csv')\n",
    "df.head()"
   ]
  },
  {
   "cell_type": "code",
   "execution_count": 14,
   "metadata": {
    "collapsed": false
   },
   "outputs": [],
   "source": [
    "df=df.loc[1:,['Year','Fatalities']]\n",
    "df['Deaths']=[int(obj) for obj in df['Fatalities']]\n",
    "deaths=df.groupby('Year').sum()"
   ]
  },
  {
   "cell_type": "code",
   "execution_count": 23,
   "metadata": {
    "collapsed": false
   },
   "outputs": [],
   "source": [
    "deaths['mod']=[obj%2 for obj in deaths.index]\n",
    "deaths['cycle']=deaths['mod']+deaths.index\n",
    "death_cycle=deaths.groupby('cycle').sum()"
   ]
  },
  {
   "cell_type": "code",
   "execution_count": 22,
   "metadata": {
    "collapsed": false
   },
   "outputs": [
    {
     "data": {
      "text/html": [
       "<div>\n",
       "<table border=\"1\" class=\"dataframe\">\n",
       "  <thead>\n",
       "    <tr style=\"text-align: right;\">\n",
       "      <th></th>\n",
       "      <th>year</th>\n",
       "      <th>contribution</th>\n",
       "    </tr>\n",
       "  </thead>\n",
       "  <tbody>\n",
       "    <tr>\n",
       "      <th>0</th>\n",
       "      <td>1998</td>\n",
       "      <td>4498393</td>\n",
       "    </tr>\n",
       "    <tr>\n",
       "      <th>1</th>\n",
       "      <td>1999</td>\n",
       "      <td>5891966</td>\n",
       "    </tr>\n",
       "    <tr>\n",
       "      <th>2</th>\n",
       "      <td>2000</td>\n",
       "      <td>6710758</td>\n",
       "    </tr>\n",
       "    <tr>\n",
       "      <th>3</th>\n",
       "      <td>2001</td>\n",
       "      <td>6236161</td>\n",
       "    </tr>\n",
       "    <tr>\n",
       "      <th>4</th>\n",
       "      <td>2002</td>\n",
       "      <td>5684546</td>\n",
       "    </tr>\n",
       "  </tbody>\n",
       "</table>\n",
       "</div>"
      ],
      "text/plain": [
       "   year  contribution\n",
       "0  1998       4498393\n",
       "1  1999       5891966\n",
       "2  2000       6710758\n",
       "3  2001       6236161\n",
       "4  2002       5684546"
      ]
     },
     "execution_count": 22,
     "metadata": {},
     "output_type": "execute_result"
    }
   ],
   "source": [
    "df2=pandas.read_csv('c:\\\\users\\\\ryan\\\\desktop\\\\contributions.csv')\n",
    "df2.head()"
   ]
  },
  {
   "cell_type": "code",
   "execution_count": 24,
   "metadata": {
    "collapsed": true
   },
   "outputs": [],
   "source": [
    "df2['mod']=[obj%2 for obj in df2['year']]\n",
    "df2['cycle']=df2['year']+df2['mod']\n",
    "contribution_cycle=df2.groupby('cycle').sum()"
   ]
  },
  {
   "cell_type": "code",
   "execution_count": 29,
   "metadata": {
    "collapsed": false
   },
   "outputs": [],
   "source": [
    "full_df=pandas.concat([contribution_cycle,death_cycle],axis=1)\n",
    "dfa=full_df[['contribution','Deaths']].dropna()"
   ]
  },
  {
   "cell_type": "markdown",
   "metadata": {},
   "source": [
    "Now we have a nice clean dataset to work with. Let's perform a simple granger-causality study on this data set. That's where we regress one variable against the lag of the other, but then we reverse the process and regress the other variable against the lag of the first variable. When you do this you can establish whether or not the two variables jointly determine each other, or one variable causes the other, or if they have no relationship. In essence, we are asking if we have a variable that always comes first. "
   ]
  },
  {
   "cell_type": "code",
   "execution_count": 39,
   "metadata": {
    "collapsed": false
   },
   "outputs": [
    {
     "name": "stdout",
     "output_type": "stream",
     "text": [
      "                            OLS Regression Results                            \n",
      "==============================================================================\n",
      "Dep. Variable:                 Deaths   R-squared:                       0.002\n",
      "Model:                            OLS   Adj. R-squared:                 -0.140\n",
      "Method:                 Least Squares   F-statistic:                   0.01495\n",
      "Date:                Mon, 13 Jun 2016   Prob (F-statistic):              0.906\n",
      "Time:                        21:45:26   Log-Likelihood:                -41.828\n",
      "No. Observations:                   9   AIC:                             87.66\n",
      "Df Residuals:                       7   BIC:                             88.05\n",
      "Df Model:                           1                                         \n",
      "Covariance Type:            nonrobust                                         \n",
      "==============================================================================\n",
      "                 coef    std err          t      P>|t|      [95.0% Conf. Int.]\n",
      "------------------------------------------------------------------------------\n",
      "lag        -1.903e-07   1.56e-06     -0.122      0.906     -3.87e-06  3.49e-06\n",
      "const         49.4013     20.214      2.444      0.045         1.603    97.200\n",
      "==============================================================================\n",
      "Omnibus:                        0.074   Durbin-Watson:                   1.348\n",
      "Prob(Omnibus):                  0.964   Jarque-Bera (JB):                0.180\n",
      "Skew:                          -0.136   Prob(JB):                        0.914\n",
      "Kurtosis:                       2.364   Cond. No.                     2.75e+07\n",
      "==============================================================================\n",
      "\n",
      "Warnings:\n",
      "[1] Standard Errors assume that the covariance matrix of the errors is correctly specified.\n",
      "[2] The condition number is large, 2.75e+07. This might indicate that there are\n",
      "strong multicollinearity or other numerical problems.\n"
     ]
    },
    {
     "name": "stderr",
     "output_type": "stream",
     "text": [
      "C:\\Users\\Ryan\\Anaconda\\lib\\site-packages\\scipy\\stats\\stats.py:1233: UserWarning: kurtosistest only valid for n>=20 ... continuing anyway, n=9\n",
      "  int(n))\n"
     ]
    }
   ],
   "source": [
    "dfa['const']=1\n",
    "dfa['lag']=dfa['contribution'].shift(1)\n",
    "dfa=dfa.dropna()\n",
    "y=dfa['Deaths']\n",
    "X=dfa[['lag','const']]\n",
    "results=sm.OLS(y,X).fit()\n",
    "print results.summary()"
   ]
  },
  {
   "cell_type": "code",
   "execution_count": 40,
   "metadata": {
    "collapsed": false
   },
   "outputs": [
    {
     "name": "stdout",
     "output_type": "stream",
     "text": [
      "                            OLS Regression Results                            \n",
      "==============================================================================\n",
      "Dep. Variable:           contribution   R-squared:                       0.574\n",
      "Model:                            OLS   Adj. R-squared:                  0.513\n",
      "Method:                 Least Squares   F-statistic:                     9.413\n",
      "Date:                Mon, 13 Jun 2016   Prob (F-statistic):             0.0181\n",
      "Time:                        21:54:19   Log-Likelihood:                -148.86\n",
      "No. Observations:                   9   AIC:                             301.7\n",
      "Df Residuals:                       7   BIC:                             302.1\n",
      "Df Model:                           1                                         \n",
      "Covariance Type:            nonrobust                                         \n",
      "==============================================================================\n",
      "                 coef    std err          t      P>|t|      [95.0% Conf. Int.]\n",
      "------------------------------------------------------------------------------\n",
      "lag         1.636e+05   5.33e+04      3.068      0.018      3.75e+04   2.9e+05\n",
      "const       5.395e+06   2.71e+06      1.988      0.087     -1.02e+06  1.18e+07\n",
      "==============================================================================\n",
      "Omnibus:                        0.325   Durbin-Watson:                   1.723\n",
      "Prob(Omnibus):                  0.850   Jarque-Bera (JB):                0.198\n",
      "Skew:                           0.266   Prob(JB):                        0.906\n",
      "Kurtosis:                       2.505   Cond. No.                         99.1\n",
      "==============================================================================\n",
      "\n",
      "Warnings:\n",
      "[1] Standard Errors assume that the covariance matrix of the errors is correctly specified.\n"
     ]
    }
   ],
   "source": [
    "full_df=pandas.concat([contribution_cycle,death_cycle],axis=1)\n",
    "dfa=full_df[['contribution','Deaths']].dropna()\n",
    "dfa['const']=1\n",
    "dfa['lag']=dfa['Deaths'].shift(1)\n",
    "dfa=dfa.dropna()\n",
    "y=dfa['contribution']\n",
    "X=dfa[['lag','const']]\n",
    "results=sm.OLS(y,X).fit()\n",
    "print results.summary()"
   ]
  },
  {
   "cell_type": "markdown",
   "metadata": {},
   "source": [
    "So let's interpret this really quickly. Campaign contributions do **not** granger cause deaths in mass shootings, however what we do find is that deaths in mass shootings **do** granger cause campaign contributions. To me it looks like the campaign contributions are defensive, which makes sense to me. In essence, my version of the story goes like this a mass shooting occurs, politicians start talking about gun control so the gun industry steps up its game amd starts playing nice with the politicians donating money to campaigns to stop the gun control legislation. In fact, the coefficient on the lag of deaths indicates that the gun industry will spend about an additional $163,600 per mass murder death. "
   ]
  }
 ],
 "metadata": {
  "kernelspec": {
   "display_name": "Python 2",
   "language": "python",
   "name": "python2"
  },
  "language_info": {
   "codemirror_mode": {
    "name": "ipython",
    "version": 2
   },
   "file_extension": ".py",
   "mimetype": "text/x-python",
   "name": "python",
   "nbconvert_exporter": "python",
   "pygments_lexer": "ipython2",
   "version": "2.7.10"
  }
 },
 "nbformat": 4,
 "nbformat_minor": 0
}
